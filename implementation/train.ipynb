{
 "cells": [
  {
   "cell_type": "code",
   "execution_count": 3,
   "metadata": {
    "collapsed": false,
    "deletable": true,
    "editable": true
   },
   "outputs": [
    {
     "ename": "ImportError",
     "evalue": "No module named 'base'",
     "output_type": "error",
     "traceback": [
      "\u001b[0;31m---------------------------------------------------------------------------\u001b[0m",
      "\u001b[0;31mImportError\u001b[0m                               Traceback (most recent call last)",
      "\u001b[0;32m<ipython-input-3-50721d771814>\u001b[0m in \u001b[0;36m<module>\u001b[0;34m()\u001b[0m\n\u001b[1;32m      7\u001b[0m \u001b[0;32mfrom\u001b[0m \u001b[0mplumbing\u001b[0m \u001b[0;32mimport\u001b[0m \u001b[0mload_dataset\u001b[0m\u001b[0;34m,\u001b[0m \u001b[0mload_word_embeddings\u001b[0m\u001b[0;34m,\u001b[0m \u001b[0mdataset_preprocess\u001b[0m\u001b[0;34m\u001b[0m\u001b[0m\n\u001b[1;32m      8\u001b[0m \u001b[0;34m\u001b[0m\u001b[0m\n\u001b[0;32m----> 9\u001b[0;31m \u001b[0;32mfrom\u001b[0m \u001b[0mnetworks\u001b[0m \u001b[0;32mimport\u001b[0m \u001b[0mTensorflowTrainable\u001b[0m\u001b[0;34m,\u001b[0m \u001b[0mRNN\u001b[0m\u001b[0;34m,\u001b[0m \u001b[0mLSTMCell\u001b[0m\u001b[0;34m,\u001b[0m \u001b[0mAttentionLSTMCell\u001b[0m\u001b[0;34m\u001b[0m\u001b[0m\n\u001b[0m\u001b[1;32m     10\u001b[0m \u001b[0;32mfrom\u001b[0m \u001b[0mbatching\u001b[0m \u001b[0;32mimport\u001b[0m \u001b[0mBatcher\u001b[0m\u001b[0;34m\u001b[0m\u001b[0m\n",
      "\u001b[0;32m/Users/jbelotti/Code/thundergolfer/reasoning-about-entailment-tensorflow/implementation/networks/__init__.py\u001b[0m in \u001b[0;36m<module>\u001b[0;34m()\u001b[0m\n\u001b[0;32m----> 1\u001b[0;31m \u001b[0;32mfrom\u001b[0m \u001b[0mbase\u001b[0m \u001b[0;32mimport\u001b[0m \u001b[0mTensorflowTrainable\u001b[0m\u001b[0;34m\u001b[0m\u001b[0m\n\u001b[0m\u001b[1;32m      2\u001b[0m \u001b[0;32mfrom\u001b[0m \u001b[0mlstm\u001b[0m \u001b[0;32mimport\u001b[0m \u001b[0mLSTMCell\u001b[0m\u001b[0;34m\u001b[0m\u001b[0m\n\u001b[1;32m      3\u001b[0m \u001b[0;32mfrom\u001b[0m \u001b[0mrnn\u001b[0m \u001b[0;32mimport\u001b[0m \u001b[0mRNN\u001b[0m\u001b[0;34m\u001b[0m\u001b[0m\n\u001b[1;32m      4\u001b[0m \u001b[0;32mfrom\u001b[0m \u001b[0mlstm_with_attention\u001b[0m \u001b[0;32mimport\u001b[0m \u001b[0mAttentionLSTMCell\u001b[0m\u001b[0;34m\u001b[0m\u001b[0m\n",
      "\u001b[0;31mImportError\u001b[0m: No module named 'base'"
     ]
    }
   ],
   "source": [
    "from __future__ import print_function\n",
    "import tensorflow as tf\n",
    "import pandas as pd\n",
    "import numpy as np\n",
    "\n",
    "import os\n",
    "from plumbing import load_dataset, load_word_embeddings, dataset_preprocess\n",
    "\n",
    "from networks import TensorflowTrainable, RNN, LSTMCell, AttentionLSTMCell\n",
    "from batching import Batcher"
   ]
  },
  {
   "cell_type": "code",
   "execution_count": 11,
   "metadata": {
    "collapsed": false,
    "deletable": true,
    "editable": true
   },
   "outputs": [
    {
     "name": "stderr",
     "output_type": "stream",
     "text": [
      "[autoreload of networks failed: Traceback (most recent call last):\n",
      "  File \"/Users/jbelotti/Code/thundergolfer/reasoning-about-entailment-tensorflow/virtual_env/lib/python3.5/site-packages/IPython/extensions/autoreload.py\", line 247, in check\n",
      "    superreload(m, reload, self.old_objects)\n",
      "ImportError: No module named 'code_mirrors'\n",
      "]\n"
     ]
    },
    {
     "ename": "AttributeError",
     "evalue": "module 'os' has no attribute 'cwd'",
     "output_type": "error",
     "traceback": [
      "\u001b[0;31m---------------------------------------------------------------------------\u001b[0m",
      "\u001b[0;31mAttributeError\u001b[0m                            Traceback (most recent call last)",
      "\u001b[0;32m<ipython-input-11-77e0c5df24b5>\u001b[0m in \u001b[0;36m<module>\u001b[0;34m()\u001b[0m\n\u001b[0;32m----> 1\u001b[0;31m \u001b[0mproject_root\u001b[0m \u001b[0;34m=\u001b[0m \u001b[0mos\u001b[0m\u001b[0;34m.\u001b[0m\u001b[0mpath\u001b[0m\u001b[0;34m.\u001b[0m\u001b[0mdirname\u001b[0m\u001b[0;34m(\u001b[0m\u001b[0mos\u001b[0m\u001b[0;34m.\u001b[0m\u001b[0mcwd\u001b[0m\u001b[0;34m(\u001b[0m\u001b[0;34m)\u001b[0m\u001b[0;34m)\u001b[0m\u001b[0;34m\u001b[0m\u001b[0m\n\u001b[0m\u001b[1;32m      2\u001b[0m parameters = {\n\u001b[1;32m      3\u001b[0m     \u001b[0;34m\"run_dir\"\u001b[0m\u001b[0;34m:\u001b[0m \u001b[0mos\u001b[0m\u001b[0;34m.\u001b[0m\u001b[0mpath\u001b[0m\u001b[0;34m.\u001b[0m\u001b[0mjoin\u001b[0m\u001b[0;34m(\u001b[0m\u001b[0mproject_root\u001b[0m\u001b[0;34m,\u001b[0m \u001b[0;34m'runs'\u001b[0m\u001b[0;34m)\u001b[0m\u001b[0;34m,\u001b[0m\u001b[0;34m\u001b[0m\u001b[0m\n\u001b[1;32m      4\u001b[0m     \u001b[0;34m\"dataset_directory\"\u001b[0m\u001b[0;34m:\u001b[0m \u001b[0mos\u001b[0m\u001b[0;34m.\u001b[0m\u001b[0mpath\u001b[0m\u001b[0;34m.\u001b[0m\u001b[0mjoin\u001b[0m\u001b[0;34m(\u001b[0m\u001b[0mproject_root\u001b[0m\u001b[0;34m,\u001b[0m \u001b[0;34m'snli_1.0'\u001b[0m\u001b[0;34m)\u001b[0m\u001b[0;34m,\u001b[0m\u001b[0;34m\u001b[0m\u001b[0m\n\u001b[1;32m      5\u001b[0m     \u001b[0;34m\"embeddings_path\"\u001b[0m\u001b[0;34m:\u001b[0m \u001b[0;32mNone\u001b[0m\u001b[0;34m,\u001b[0m\u001b[0;34m\u001b[0m\u001b[0m\n",
      "\u001b[0;31mAttributeError\u001b[0m: module 'os' has no attribute 'cwd'"
     ]
    }
   ],
   "source": [
    "project_root = os.path.dirname(os.cwd())\n",
    "parameters = {\n",
    "    \"run_dir\": os.path.join(project_root, 'runs'),\n",
    "    \"dataset_directory\": os.path.join(project_root, 'snli_1.0'),\n",
    "    \"embeddings_path\": None,\n",
    "    \"model_name\": \"attention_lstm\",\n",
    "}\n",
    "\n",
    "training_parameters = {\n",
    "    \"learning_rate\": 0.001,\n",
    "    \"weight_decay\": 0.0,\n",
    "    \"keep_prob\": 0.8,\n",
    "    \"batch_size_train\": 24,\n",
    "    \"batch_size_dev\": 10000,\n",
    "    \"batch_size_test\": 10000,\n",
    "    \"gpu\": \"\", # set to empty string to use CPU\n",
    "    \"num_epochs\": 45,\n",
    "    \"embedding_dim\": 300,\n",
    "    \"sequence_length\": 20,\n",
    "    \"num_units\": 100 # LSTM output dimension (k in the original paper)\n",
    "}"
   ]
  },
  {
   "cell_type": "markdown",
   "metadata": {
    "deletable": true,
    "editable": true
   },
   "source": [
    "#### Load Dataset + Pre-trained Embeddings"
   ]
  },
  {
   "cell_type": "code",
   "execution_count": null,
   "metadata": {
    "collapsed": true,
    "deletable": true,
    "editable": true
   },
   "outputs": [],
   "source": [
    "dataset = load_dataset(parameters['dataset_directory'])\n",
    "embeddings = load_embeddings(parameters['embeddings_path'])"
   ]
  },
  {
   "cell_type": "code",
   "execution_count": null,
   "metadata": {
    "collapsed": true,
    "deletable": true,
    "editable": true
   },
   "outputs": [],
   "source": [
    "def setup_logging(model_dir):\n",
    "    logdir = os.path.join(model_dir, \"log\")\n",
    "    if not os.path.exists(logdir):\n",
    "        os.mkdir(logdir)\n",
    "    logdir_train = os.path.join(logdir, \"train\")\n",
    "    if not os.path.exists(logdir_train):\n",
    "        os.mkdir(logdir_train)\n",
    "    logdir_test = os.path.join(logdir, \"test\")\n",
    "    if not os.path.exists(logdir_test):\n",
    "        os.mkdir(logdir_test)\n",
    "    logdir_dev = os.path.join(logdir, \"dev\")\n",
    "    if not os.path.exists(logdir_dev):\n",
    "        os.mkdir(logdir_dev)\n",
    "        \n",
    "    return logdir_train, logdir_test, logdir_dev"
   ]
  },
  {
   "cell_type": "code",
   "execution_count": 12,
   "metadata": {
    "collapsed": false,
    "deletable": true,
    "editable": true
   },
   "outputs": [],
   "source": [
    "def train(word2vec, dataset, parameters):\n",
    "    modeldir = os.path.join(parameters[\"runs_dir\"], parameters[\"model_name\"])\n",
    "    if not os.path.exists(modeldir):\n",
    "        os.mkdir(modeldir)\n",
    "        \n",
    "    logdir_train, logdir_test, logdir_dev = setup_logging(modeldir)\n",
    "\n",
    "    savepath = os.path.join(modeldir, \"save\")\n",
    "\n",
    "    device_string = \"/gpu:{}\".format(parameters[\"gpu\"]) if parameters[\"gpu\"] else \"/cpu:0\"\n",
    "    with tf.device(device_string):\n",
    "        gpu_options = tf.GPUOptions(per_process_gpu_memory_fraction=0.8)\n",
    "        config_proto = tf.ConfigProto(allow_soft_placement=True, gpu_options=gpu_options)\n",
    "\n",
    "        sess = tf.Session(config=config_proto)\n",
    "\n",
    "        premises_ph = tf.placeholder(tf.float32, shape=[parameters[\"sequence_length\"], None, parameters[\"embedding_dim\"]], name=\"premises\")\n",
    "        hypothesis_ph = tf.placeholder(tf.float32, shape=[parameters[\"sequence_length\"], None, parameters[\"embedding_dim\"]], name=\"hypothesis\")\n",
    "        targets_ph = tf.placeholder(tf.int32, shape=[None], name=\"targets\")\n",
    "        keep_prob_ph = tf.placeholder(tf.float32, name=\"keep_prob\")\n",
    "\n",
    "        _projecter = TensorFlowTrainable()\n",
    "        projecter = _projecter.get_4Dweights(filter_height=1, filter_width=parameters[\"embedding_dim\"], in_channels=1, out_channels=parameters[\"num_units\"], name=\"projecter\")\n",
    "\n",
    "        optimizer = tf.train.AdamOptimizer(learning_rate=parameters[\"learning_rate\"], name=\"ADAM\", beta1=0.9, beta2=0.999)\n",
    "        \n",
    "        with tf.variable_scope(name_or_scope=\"premise\"):\n",
    "            premise = RNN(cell=LSTMCell, num_units=parameters[\"num_units\"], embedding_dim=parameters[\"embedding_dim\"], projecter=projecter, keep_prob=keep_prob_ph)\n",
    "            premise.process(sequence=premises_ph)\n",
    "\n",
    "        with tf.variable_scope(name_or_scope=\"hypothesis\"):\n",
    "            hypothesis = RNN(cell=AttentionLSTMCell, num_units=parameters[\"num_units\"], embedding_dim=parameters[\"embedding_dim\"], hiddens=premise.hiddens, states=premise.states, projecter=projecter, keep_prob=keep_prob_ph)\n",
    "            hypothesis.process(sequence=hypothesis_ph)\n",
    "\n",
    "        loss, loss_summary, accuracy, accuracy_summary = hypothesis.loss(targets=targets_ph)\n",
    "\n",
    "        weight_decay = tf.reduce_sum([tf.reduce_sum(parameter) for parameter in premise.parameters + hypothesis.parameters])\n",
    "\n",
    "        global_loss = loss + parameters[\"weight_decay\"] * weight_decay\n",
    "\n",
    "        train_summary_op = tf.merge_summary([loss_summary, accuracy_summary])\n",
    "        train_summary_writer = tf.train.SummaryWriter(logdir_train, sess.graph)\n",
    "        test_summary_op = tf.merge_summary([loss_summary, accuracy_summary])\n",
    "        test_summary_writer = tf.train.SummaryWriter(logdir_test)\n",
    "        \n",
    "        saver = tf.train.Saver(max_to_keep=10)\n",
    "        summary_writer = tf.train.SummaryWriter(logdir)\n",
    "        tf.train.write_graph(sess.graph_def, modeldir, \"graph.pb\", as_text=False)\n",
    "        loader = tf.train.Saver(tf.all_variables())\n",
    "\n",
    "        optimizer = tf.train.AdamOptimizer(learning_rate=parameters[\"learning_rate\"], name=\"ADAM\", beta1=0.9, beta2=0.999)\n",
    "        train_op = optimizer.minimize(global_loss)\n",
    "\n",
    "        sess.run(tf.initialize_all_variables())\n",
    "        \n",
    "        batcher = Batcher(word2vec=word2vec)\n",
    "        train_batches = batching.batch_generator(dataset=dataset[\"train\"], num_epochs=parameters[\"num_epochs\"], batch_size=parameters[\"batch_size\"][\"train\"], sequence_length=parameters[\"sequence_length\"])\n",
    "        num_step_by_epoch = int(math.ceil(len(dataset[\"train\"][\"targets\"]) / parameters[\"batch_size\"][\"train\"]))\n",
    "        for train_step, (train_batch, epoch) in enumerate(train_batches):\n",
    "            feed_dict = {\n",
    "                            premises_ph: np.transpose(train_batch[\"premises\"], (1, 0, 2)),\n",
    "                            hypothesis_ph: np.transpose(train_batch[\"hypothesis\"], (1, 0, 2)),\n",
    "                            targets_ph: train_batch[\"targets\"],\n",
    "                            keep_prob_ph: parameters[\"keep_prob\"],\n",
    "                        }\n",
    "\n",
    "            _, summary_str, train_loss, train_accuracy = sess.run([train_op, train_summary_op, loss, accuracy], feed_dict=feed_dict)\n",
    "            train_summary_writer.add_summary(summary_str, train_step)\n",
    "            if train_step % 100 == 0:\n",
    "                sys.stdout.write(\"\\rTRAIN | epoch={0}/{1}, step={2}/{3} | loss={4:.2f}, accuracy={5:.2f}%   \".format(epoch + 1, parameters[\"num_epochs\"], train_step % num_step_by_epoch, num_step_by_epoch, train_loss, 100. * train_accuracy))\n",
    "                sys.stdout.flush()\n",
    "            if train_step % 5000 == 0:\n",
    "                test_batches = batching.batch_generator(dataset=dataset[\"test\"], num_epochs=1, batch_size=parameters[\"batch_size\"][\"test\"], sequence_length=parameters[\"sequence_length\"])\n",
    "                for test_step, (test_batch, _) in enumerate(test_batches):\n",
    "                    feed_dict = {\n",
    "                                    premises_ph: np.transpose(test_batch[\"premises\"], (1, 0, 2)),\n",
    "                                    hypothesis_ph: np.transpose(test_batch[\"hypothesis\"], (1, 0, 2)),\n",
    "                                    targets_ph: test_batch[\"targets\"],\n",
    "                                    keep_prob_ph: 1.,\n",
    "                                }\n",
    "\n",
    "                    summary_str, test_loss, test_accuracy = sess.run([test_summary_op, loss, accuracy], feed_dict=feed_dict)\n",
    "                    print(\"\\nTEST | loss={0:.2f}, accuracy={1:.2f}%   \".format(test_loss, 100. * test_accuracy))\n",
    "                    print()\n",
    "                    test_summary_writer.add_summary(summary_str, train_step)\n",
    "                    break\n",
    "            if train_step % 5000 == 0:\n",
    "                saver.save(sess, save_path=savepath, global_step=train_step)\n",
    "        print()\n"
   ]
  },
  {
   "cell_type": "code",
   "execution_count": null,
   "metadata": {
    "collapsed": true,
    "deletable": true,
    "editable": true
   },
   "outputs": [],
   "source": []
  }
 ],
 "metadata": {
  "kernelspec": {
   "display_name": "Python 3",
   "language": "python",
   "name": "python3"
  },
  "language_info": {
   "codemirror_mode": {
    "name": "ipython",
    "version": 3
   },
   "file_extension": ".py",
   "mimetype": "text/x-python",
   "name": "python",
   "nbconvert_exporter": "python",
   "pygments_lexer": "ipython3",
   "version": "3.5.3"
  }
 },
 "nbformat": 4,
 "nbformat_minor": 2
}
