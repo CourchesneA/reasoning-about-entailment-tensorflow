{
 "cells": [
  {
   "cell_type": "code",
   "execution_count": 70,
   "metadata": {},
   "outputs": [
    {
     "name": "stdout",
     "output_type": "stream",
     "text": [
      "Model loaded\n",
      "Loading custom test data\n",
      "{'custom': {'premises': [['time', 'flies', 'like', 'an', 'arrow', '.'], ['the', 'girl\\xe2\\x80\\x99s', 'eyes', 'are', 'the', 'colour', 'of', 'the', 'sky', '.'], ['the', 'man', 'danced', 'as', 'well', 'as', 'micheal', 'jackson', '.'], ['the', 'assignment', 'was', 'a', 'piece', 'of', 'cake', '.']], 'hypothesis': [['time', 'goes', 'by', 'quickly', '.'], ['the', 'girl', 'has', 'brown', 'eyes', '.'], ['the', 'man', 'was', 'a', 'talented', 'dancer', '.'], ['the', 'assignment', 'was', 'easy', '.']], 'targets': [1, 2, 1, 1]}}\n"
     ]
    }
   ],
   "source": [
    "import tensorflow as tf\n",
    "import os\n",
    "import pandas as pd\n",
    "from plumbing import load_word_embeddings, dataset_preprocess\n",
    "\n",
    "parameters = {\n",
    "    \"runs_dir\": os.path.join(project_root, 'runs'),\n",
    "    \"model_name\": \"attention_lstm\"\n",
    "}\n",
    "\n",
    "project_root = os.path.dirname(os.getcwd())\n",
    "modeldir = os.path.join(parameters[\"runs_dir\"], parameters[\"model_name\"])\n",
    "datadir = os.path.join(project_root,\"data\")\n",
    "\n",
    "def load_model():\n",
    "    \"\"\"\n",
    "    Load the Model saved during the training (using saver.save)\n",
    "    \"\"\"\n",
    "    \n",
    "    new_saver = tf.train.import_meta_graph(os.path.join(modeldir,'save-1025000.meta'))\n",
    "    new_saver.restore(sess, tf.train.latest_checkpoint(modeldir))\n",
    "\n",
    "def load_custom_data(datapath):\n",
    "    dataset_dir = os.path.join(project_root,'data')\n",
    "    print(\"Loading custom test data\")\n",
    "    dataset = {}\n",
    "    split = \"custom\"\n",
    "    df = pd.read_csv(datapath, delimiter='\\t')\n",
    "    dataset[split] = {\n",
    "        \"premises\": df[[\"sentence1\"]].values,\n",
    "        \"hypothesis\": df[[\"sentence2\"]].values,\n",
    "        \"targets\": df[[\"gold_label\"]].values\n",
    "    }\n",
    "    return dataset\n",
    "    \n",
    "if __name__ == '__main__':\n",
    "    gpu_options = tf.GPUOptions(per_process_gpu_memory_fraction=0.8)\n",
    "    config_proto = tf.ConfigProto(allow_soft_placement=True, gpu_options=gpu_options)\n",
    "    with tf.Session(config=config_proto) as sess:\n",
    "#         load_model()\n",
    "        #@ The node loaded can be found in graph_ops.txt in 'modeldir'\n",
    "        print(\"Model loaded\")\n",
    "        \n",
    "        #@ Load the data that we want to test\n",
    "        dataset_raw = load_custom_data(os.path.join(datadir,\"comparisons.txt\"))\n",
    "        dataset = dataset_preprocess(dataset_raw)\n",
    "        \n",
    "        #@ Test the data\n",
    "\n",
    "        \n"
   ]
  },
  {
   "cell_type": "code",
   "execution_count": null,
   "metadata": {},
   "outputs": [],
   "source": []
  }
 ],
 "metadata": {
  "kernelspec": {
   "display_name": "Python 2",
   "language": "python",
   "name": "python2"
  },
  "language_info": {
   "codemirror_mode": {
    "name": "ipython",
    "version": 2
   },
   "file_extension": ".py",
   "mimetype": "text/x-python",
   "name": "python",
   "nbconvert_exporter": "python",
   "pygments_lexer": "ipython2",
   "version": "2.7.15"
  }
 },
 "nbformat": 4,
 "nbformat_minor": 2
}
