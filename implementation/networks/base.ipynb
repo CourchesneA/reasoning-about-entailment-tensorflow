{
 "cells": [
  {
   "cell_type": "code",
   "execution_count": null,
   "metadata": {
    "collapsed": true,
    "deletable": true,
    "editable": true
   },
   "outputs": [],
   "source": [
    "import tensorflow as tf\n",
    "import numpy as np"
   ]
  },
  {
   "cell_type": "code",
   "execution_count": null,
   "metadata": {
    "collapsed": true,
    "deletable": true,
    "editable": true
   },
   "outputs": [],
   "source": [
    "class TensorFlowTrainable(object):\n",
    "    def __init__(self):\n",
    "        self.parameters = []\n",
    "\n",
    "    def get_weights(self, dim_in, dim_out, name, trainable=True):\n",
    "        shape = (dim_out, dim_in)\n",
    "        weightsInitializer = tf.constant_initializer(self.truncated_normal(shape=shape, stddev=0.01, mean=0.))\n",
    "        weights = tf.get_variable(initializer=weightsInitializer, shape=shape, trainable=True, name=name)\n",
    "        if trainable:\n",
    "            self.parameters.append(weights)\n",
    "        return weights\n",
    "\n",
    "    def get_4Dweights(self, filter_height, filter_width, in_channels, out_channels, name, trainable=True):\n",
    "        shape = (filter_height, filter_width, in_channels, out_channels)\n",
    "        weightsInitializer = tf.constant_initializer(self.truncated_normal(shape=shape, stddev=0.01, mean=0.))\n",
    "        weights = tf.get_variable(initializer=weightsInitializer, shape=shape, trainable=True, name=name)\n",
    "        if trainable:\n",
    "            self.parameters.append(weights)\n",
    "        return weights\n",
    "\n",
    "    def get_biases(self, dim_out, name, trainable=True):\n",
    "        shape = (dim_out, 1)\n",
    "        initialBiases = tf.constant_initializer(np.zeros(shape))\n",
    "        biases = tf.get_variable(initializer=initialBiases, shape=shape, trainable=True, name=name)\n",
    "        if trainable:\n",
    "            self.parameters.append(biases)\n",
    "        return biases\n",
    "\n",
    "    @staticmethod\n",
    "    def truncated_normal(shape, stddev, mean=0.):\n",
    "        rand_init = np.random.normal(loc=mean, scale=stddev, size=shape)\n",
    "        inf_mask = rand_init < (mean - 2 * stddev)\n",
    "        rand_init = rand_init * np.abs(1 - inf_mask) + inf_mask * (mean - 2 * stddev)\n",
    "        sup_mask = rand_init > (mean + 2 * stddev)\n",
    "        rand_init = rand_init * np.abs(1 - sup_mask) + sup_mask * (mean + 2 * stddev)\n",
    "        return rand_init"
   ]
  }
 ],
 "metadata": {
  "kernelspec": {
   "display_name": "Python 3",
   "language": "python",
   "name": "python3"
  },
  "language_info": {
   "codemirror_mode": {
    "name": "ipython",
    "version": 3
   },
   "file_extension": ".py",
   "mimetype": "text/x-python",
   "name": "python",
   "nbconvert_exporter": "python",
   "pygments_lexer": "ipython3",
   "version": "3.5.3"
  }
 },
 "nbformat": 4,
 "nbformat_minor": 2
}
